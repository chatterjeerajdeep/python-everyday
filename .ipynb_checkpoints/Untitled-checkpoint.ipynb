{
 "cells": [
  {
   "cell_type": "markdown",
   "metadata": {},
   "source": [
    "## <u>What is reduce() ?<u>"
   ]
  },
  {
   "cell_type": "markdown",
   "metadata": {},
   "source": [
    "### The reduce() in python is an useful tool when we want to apply a function cumulatively across all elements of an iterator. For example, when we want to add all the elements of a list, or find the maximum or minimum number from a list and so on. "
   ]
  },
  {
   "cell_type": "markdown",
   "metadata": {},
   "source": [
    "### Currently, there are more than one ways to perform all these operations in python and reduce() might seem redundant, but in this example we will make use of reduce() for something really interesting."
   ]
  },
  {
   "cell_type": "markdown",
   "metadata": {},
   "source": [
    "### The first parameter of the reduce() method is a function and the second argument is an iterator like list. The reduce() method will run until all elements of the iterator is exhausted and it will generate one final result."
   ]
  },
  {
   "cell_type": "markdown",
   "metadata": {},
   "source": [
    "### reduce() is defined in the functools library in python and has an optional third parameter named initializer that can be used to provide a seed value for the operation."
   ]
  },
  {
   "cell_type": "markdown",
   "metadata": {},
   "source": [
    "## <u>Our Use Case<u>"
   ]
  },
  {
   "cell_type": "markdown",
   "metadata": {},
   "source": [
    "### Consider that we have a complex JSON structure that we have parsed in to a python dictionary. Refer to <a href=\"https://github.com/chatterjeerajdeep/python-everyday/blob/main/load_json_from_file.ipynb\"> this </a> to know how you can do so."
   ]
  },
  {
   "cell_type": "code",
   "execution_count": 1,
   "metadata": {},
   "outputs": [],
   "source": [
    "import json\n",
    "\n",
    "with open(\"./sample_data/sample_world_data.json\") as json_file:\n",
    "    data_dict = json.load(json_file)"
   ]
  },
  {
   "cell_type": "code",
   "execution_count": 2,
   "metadata": {},
   "outputs": [
    {
     "data": {
      "text/plain": [
       "{'Continent': {'Asia': {'Country': {'India': {'Population': 1380004385},\n",
       "    'Bangladesh': {'Population': 164689383}}},\n",
       "  'Africa': {'Country': {'Nigeria': {'Population': 206139589},\n",
       "    'Egypt': {'Population': 102334404}}},\n",
       "  'Europe': {'Country': {'Russia': {'Population': 145934462},\n",
       "    'Germany': {'Population': 83783942}}}}}"
      ]
     },
     "execution_count": 2,
     "metadata": {},
     "output_type": "execute_result"
    }
   ],
   "source": [
    "data_dict"
   ]
  },
  {
   "cell_type": "markdown",
   "metadata": {},
   "source": [
    "### Now, we want to extract the Population of India. The obvious way of doing this is this:"
   ]
  },
  {
   "cell_type": "code",
   "execution_count": 3,
   "metadata": {},
   "outputs": [
    {
     "data": {
      "text/plain": [
       "1380004385"
      ]
     },
     "execution_count": 3,
     "metadata": {},
     "output_type": "execute_result"
    }
   ],
   "source": [
    "data_dict[\"Continent\"][\"Asia\"][\"Country\"][\"India\"][\"Population\"]"
   ]
  },
  {
   "cell_type": "markdown",
   "metadata": {},
   "source": [
    "### But what if we have this hierarchy in a list and we want to find the exact same thing using that list and the dictionary object without explicitly iterating through the list"
   ]
  },
  {
   "cell_type": "code",
   "execution_count": 4,
   "metadata": {},
   "outputs": [],
   "source": [
    "hierarchy_list = [\"Continent\",\"Asia\",\"Country\",\"India\",\"Population\"]"
   ]
  },
  {
   "cell_type": "markdown",
   "metadata": {},
   "source": [
    "### That's where we can use the reduce() method\n",
    "### The seed value here will be the dictionary object and since accessing any value from a dictionary is like cumulative indexing of the dictionary, we can simply use the getitem() from operator library as the function and the hierarchy list as the iterator"
   ]
  },
  {
   "cell_type": "code",
   "execution_count": 7,
   "metadata": {},
   "outputs": [],
   "source": [
    "import operator\n",
    "\n",
    "population_india = reduce(operator.getitem, hierarchy_list,data_dict)"
   ]
  },
  {
   "cell_type": "code",
   "execution_count": 8,
   "metadata": {},
   "outputs": [
    {
     "data": {
      "text/plain": [
       "1380004385"
      ]
     },
     "execution_count": 8,
     "metadata": {},
     "output_type": "execute_result"
    }
   ],
   "source": [
    "population_india"
   ]
  },
  {
   "cell_type": "code",
   "execution_count": null,
   "metadata": {},
   "outputs": [],
   "source": []
  }
 ],
 "metadata": {
  "kernelspec": {
   "display_name": "Python 3",
   "language": "python",
   "name": "python3"
  },
  "language_info": {
   "codemirror_mode": {
    "name": "ipython",
    "version": 3
   },
   "file_extension": ".py",
   "mimetype": "text/x-python",
   "name": "python",
   "nbconvert_exporter": "python",
   "pygments_lexer": "ipython3",
   "version": "3.6.9"
  }
 },
 "nbformat": 4,
 "nbformat_minor": 4
}
