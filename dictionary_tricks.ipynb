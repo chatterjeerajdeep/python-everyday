{
 "cells": [
  {
   "cell_type": "markdown",
   "metadata": {},
   "source": [
    "### Dictionaries are super useful in Python. We can parse JSON data into this format, store tuples in the form of key-value pairs, provide named indexing to query data easily and so on. A dictionary is a really useful data structure in Python."
   ]
  },
  {
   "cell_type": "markdown",
   "metadata": {},
   "source": [
    "### Here are some simple yet effective ways to deal with dictionaries"
   ]
  },
  {
   "cell_type": "markdown",
   "metadata": {},
   "source": [
    "## 1. <u>Searching a Key in a dictionary when we are not sure if the key exists</u>"
   ]
  },
  {
   "cell_type": "markdown",
   "metadata": {},
   "source": [
    "### Suppose we have a dictionary like this"
   ]
  },
  {
   "cell_type": "code",
   "execution_count": 32,
   "metadata": {},
   "outputs": [],
   "source": [
    "dict1 = {\"Blue\":\"Sky\",\"Red\":\"Rose\",\"White\":\"Snow\"}"
   ]
  },
  {
   "cell_type": "markdown",
   "metadata": {},
   "source": [
    "### Now, if we try to index the dictionary with a key that does not exist, this happens"
   ]
  },
  {
   "cell_type": "code",
   "execution_count": 33,
   "metadata": {},
   "outputs": [
    {
     "ename": "KeyError",
     "evalue": "'Yellow'",
     "output_type": "error",
     "traceback": [
      "\u001b[0;31m---------------------------------------------------------------------------\u001b[0m",
      "\u001b[0;31mKeyError\u001b[0m                                  Traceback (most recent call last)",
      "\u001b[0;32m<ipython-input-33-53750f25a4ad>\u001b[0m in \u001b[0;36m<module>\u001b[0;34m\u001b[0m\n\u001b[0;32m----> 1\u001b[0;31m \u001b[0mdict1\u001b[0m\u001b[0;34m[\u001b[0m\u001b[0;34m\"Yellow\"\u001b[0m\u001b[0;34m]\u001b[0m\u001b[0;34m\u001b[0m\u001b[0;34m\u001b[0m\u001b[0m\n\u001b[0m",
      "\u001b[0;31mKeyError\u001b[0m: 'Yellow'"
     ]
    }
   ],
   "source": [
    "dict1[\"Yellow\"]"
   ]
  },
  {
   "cell_type": "markdown",
   "metadata": {},
   "source": [
    "### One way to deal with this problem is by using an if condition and the keys() attribute of dictionary objects"
   ]
  },
  {
   "cell_type": "code",
   "execution_count": 36,
   "metadata": {},
   "outputs": [
    {
     "name": "stdout",
     "output_type": "stream",
     "text": [
      "Yellow is not present in the dictionary keys\n"
     ]
    }
   ],
   "source": [
    "if \"Yellow\" in dict1.keys():\n",
    "    print(dict1[\"Yellow\"])\n",
    "else:\n",
    "    print(\"Yellow is not present in the dictionary keys\")"
   ]
  },
  {
   "cell_type": "markdown",
   "metadata": {},
   "source": [
    "### Another way can be to use Error Handling. If a key is not present in a dictionary, a KeyError is raised as we can see above"
   ]
  },
  {
   "cell_type": "code",
   "execution_count": 37,
   "metadata": {},
   "outputs": [
    {
     "name": "stdout",
     "output_type": "stream",
     "text": [
      "Yellow is not present in the dictionary keys\n"
     ]
    }
   ],
   "source": [
    "try:\n",
    "    print(dict1[\"Yellow\"])\n",
    "except KeyError:\n",
    "    print(\"Yellow is not present in the dictionary keys\")"
   ]
  },
  {
   "cell_type": "markdown",
   "metadata": {},
   "source": [
    "### The third method is something that I prefer. We can use the get() attribute of the dictionary object like this"
   ]
  },
  {
   "cell_type": "code",
   "execution_count": 38,
   "metadata": {},
   "outputs": [
    {
     "name": "stdout",
     "output_type": "stream",
     "text": [
      "Yellow is not present in the dictionary keys\n"
     ]
    }
   ],
   "source": [
    "print(dict1.get(\"Yellow\",\"Yellow is not present in the dictionary keys\"))"
   ]
  },
  {
   "cell_type": "markdown",
   "metadata": {},
   "source": [
    "### This is clean and concise!!"
   ]
  },
  {
   "cell_type": "markdown",
   "metadata": {},
   "source": [
    "## 2. <u>Extending a dictionary</u>"
   ]
  },
  {
   "cell_type": "markdown",
   "metadata": {},
   "source": [
    "### We might need to add the items of a dictionary to some other dictionary. We can do this by using a for loop"
   ]
  },
  {
   "cell_type": "code",
   "execution_count": 43,
   "metadata": {},
   "outputs": [],
   "source": [
    "dict1 = {\"Blue\":\"Sky\",\"Red\":\"Rose\",\"White\":\"Snow\"}\n",
    "dict2 = {\"Green\":\"Grass\",\"Pink\":\"Panther\"}"
   ]
  },
  {
   "cell_type": "code",
   "execution_count": 41,
   "metadata": {},
   "outputs": [],
   "source": [
    "for key, value in dict2.items():\n",
    "    dict1[key] = value"
   ]
  },
  {
   "cell_type": "code",
   "execution_count": 42,
   "metadata": {},
   "outputs": [
    {
     "data": {
      "text/plain": [
       "{'Blue': 'Sky',\n",
       " 'Red': 'Rose',\n",
       " 'White': 'Snow',\n",
       " 'Green': 'Grass',\n",
       " 'Pink': 'Panther'}"
      ]
     },
     "execution_count": 42,
     "metadata": {},
     "output_type": "execute_result"
    }
   ],
   "source": [
    "dict1"
   ]
  },
  {
   "cell_type": "markdown",
   "metadata": {},
   "source": [
    "### But we can avoid using for loops for this task and make it more pythonic using the update() method, like this\n"
   ]
  },
  {
   "cell_type": "code",
   "execution_count": 44,
   "metadata": {},
   "outputs": [],
   "source": [
    "dict1 = {\"Blue\":\"Sky\",\"Red\":\"Rose\",\"White\":\"Snow\"}\n",
    "dict2 = {\"Green\":\"Grass\",\"Pink\":\"Panther\"}\n",
    "\n",
    "dict1.update(dict2)"
   ]
  },
  {
   "cell_type": "code",
   "execution_count": 45,
   "metadata": {},
   "outputs": [
    {
     "data": {
      "text/plain": [
       "{'Blue': 'Sky',\n",
       " 'Red': 'Rose',\n",
       " 'White': 'Snow',\n",
       " 'Green': 'Grass',\n",
       " 'Pink': 'Panther'}"
      ]
     },
     "execution_count": 45,
     "metadata": {},
     "output_type": "execute_result"
    }
   ],
   "source": [
    "dict1"
   ]
  },
  {
   "cell_type": "markdown",
   "metadata": {},
   "source": [
    "## 3. <u>Renaming Keys</u>"
   ]
  },
  {
   "cell_type": "markdown",
   "metadata": {},
   "source": [
    "### Keys in a dictionary are meant to be unique, and everytime we assign some value to a key in a dictionary, the old value gets replaced. But what if we want to keep the value intact and rather change the key? In short, how can we rename a key in a dictionary?"
   ]
  },
  {
   "cell_type": "code",
   "execution_count": 1,
   "metadata": {},
   "outputs": [],
   "source": [
    "dict1 = {\"Blue\":\"Sky\",\"Red\":\"Rose\",\"White\":\"Snow\"}"
   ]
  },
  {
   "cell_type": "markdown",
   "metadata": {},
   "source": [
    "### Suppose here we want to rename \"Red\" to \"Yellow\""
   ]
  },
  {
   "cell_type": "code",
   "execution_count": 2,
   "metadata": {},
   "outputs": [],
   "source": [
    "dict1[\"Yellow\"] = dict1.pop(\"Red\")"
   ]
  },
  {
   "cell_type": "code",
   "execution_count": 3,
   "metadata": {},
   "outputs": [
    {
     "data": {
      "text/plain": [
       "{'Blue': 'Sky', 'White': 'Snow', 'Yellow': 'Rose'}"
      ]
     },
     "execution_count": 3,
     "metadata": {},
     "output_type": "execute_result"
    }
   ],
   "source": [
    "dict1"
   ]
  },
  {
   "cell_type": "code",
   "execution_count": null,
   "metadata": {},
   "outputs": [],
   "source": []
  }
 ],
 "metadata": {
  "kernelspec": {
   "display_name": "Python 3",
   "language": "python",
   "name": "python3"
  },
  "language_info": {
   "codemirror_mode": {
    "name": "ipython",
    "version": 3
   },
   "file_extension": ".py",
   "mimetype": "text/x-python",
   "name": "python",
   "nbconvert_exporter": "python",
   "pygments_lexer": "ipython3",
   "version": "3.6.9"
  }
 },
 "nbformat": 4,
 "nbformat_minor": 4
}
